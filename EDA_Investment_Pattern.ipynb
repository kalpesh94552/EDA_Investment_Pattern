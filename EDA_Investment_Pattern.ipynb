{
 "cells": [
  {
   "cell_type": "markdown",
   "metadata": {},
   "source": [
    "# Investment Assigment"
   ]
  },
  {
   "cell_type": "code",
   "execution_count": 46,
   "metadata": {},
   "outputs": [],
   "source": [
    "#Definations\n",
    "companiesPath = \"data/companies.txt\"\n",
    "round2Path = \"data/rounds2.csv\"\n",
    "mappingPath = \"data/mapping.csv\"\n",
    "\n",
    "#Import the Libraries\n",
    "import numpy as np\n",
    "import pandas as pd\n",
    "import matplotlib.pyplot as plt\n",
    "import seaborn as sns\n",
    "sns.set_style(\"whitegrid\")\n",
    "\n",
    "# Reading Companies & round2 file\n",
    "companies = pd.read_csv(companiesPath, sep=\"\\t\",encoding='iso-8859-1')\n",
    "rounds2 = pd.read_csv(round2Path, sep=\",\",encoding='iso-8859-1')\n",
    "mapping = pd.read_csv(mappingPath, sep=\",\",encoding='iso-8859-1')"
   ]
  },
  {
   "cell_type": "markdown",
   "metadata": {},
   "source": [
    "## Checkpoint 1: Data Cleaning 1"
   ]
  },
  {
   "cell_type": "markdown",
   "metadata": {},
   "source": [
    "### Cleaning rounds2 table"
   ]
  },
  {
   "cell_type": "code",
   "execution_count": 2,
   "metadata": {},
   "outputs": [
    {
     "name": "stdout",
     "output_type": "stream",
     "text": [
      "<class 'pandas.core.frame.DataFrame'>\n",
      "RangeIndex: 114949 entries, 0 to 114948\n",
      "Data columns (total 6 columns):\n",
      "company_permalink          114949 non-null object\n",
      "funding_round_permalink    114949 non-null object\n",
      "funding_round_type         114949 non-null object\n",
      "funding_round_code         31140 non-null object\n",
      "funded_at                  114949 non-null object\n",
      "raised_amount_usd          94959 non-null float64\n",
      "dtypes: float64(1), object(5)\n",
      "memory usage: 5.3+ MB\n"
     ]
    }
   ],
   "source": [
    "rounds2.info()"
   ]
  },
  {
   "cell_type": "code",
   "execution_count": 3,
   "metadata": {},
   "outputs": [
    {
     "data": {
      "text/plain": [
       "company_permalink              0\n",
       "funding_round_permalink        0\n",
       "funding_round_type             0\n",
       "funding_round_code         83809\n",
       "funded_at                      0\n",
       "raised_amount_usd          19990\n",
       "dtype: int64"
      ]
     },
     "execution_count": 3,
     "metadata": {},
     "output_type": "execute_result"
    }
   ],
   "source": [
    "# Printing number of null object per column\n",
    "rounds2.isnull().sum()"
   ]
  },
  {
   "cell_type": "markdown",
   "metadata": {},
   "source": [
    "### Cleaning round2 Table : \n",
    "1. Here 'funding_round_code' is not required for analysis so dropping that column.\n",
    "2. Also, rows not having 'raised_amount_usd' data are useless so dropping the rows having 'raised_amount_usd' as null.\n",
    "3. In the 'company_permalink' column the entries were similar but treated differently because of text case. So the whole column was converted to lower case."
   ]
  },
  {
   "cell_type": "code",
   "execution_count": 4,
   "metadata": {},
   "outputs": [
    {
     "data": {
      "text/plain": [
       "company_permalink     0\n",
       "funding_round_type    0\n",
       "raised_amount_usd     0\n",
       "dtype: int64"
      ]
     },
     "execution_count": 4,
     "metadata": {},
     "output_type": "execute_result"
    }
   ],
   "source": [
    "#Creating a copy of rounds2 table\n",
    "clean_rounds2 = rounds2.copy()\n",
    "\n",
    "#Dropping 'funding_round_code' column\n",
    "clean_rounds2 = rounds2.drop(['funding_round_code','funding_round_permalink','funded_at'], axis = 1)\n",
    "\n",
    "#Removing rows having 'raised_amount_usd' as null\n",
    "clean_rounds2 = clean_rounds2.dropna(subset=['raised_amount_usd'])\n",
    "\n",
    "#Converting company_permalink column to lower case\n",
    "clean_rounds2['company_permalink'] = clean_rounds2['company_permalink'].str.lower() \n",
    "\n",
    "# Printing number of null object per column\n",
    "clean_rounds2.isnull().sum()"
   ]
  },
  {
   "cell_type": "code",
   "execution_count": 5,
   "metadata": {},
   "outputs": [
    {
     "name": "stdout",
     "output_type": "stream",
     "text": [
      "<class 'pandas.core.frame.DataFrame'>\n",
      "Int64Index: 94959 entries, 0 to 114948\n",
      "Data columns (total 3 columns):\n",
      "company_permalink     94959 non-null object\n",
      "funding_round_type    94959 non-null object\n",
      "raised_amount_usd     94959 non-null float64\n",
      "dtypes: float64(1), object(2)\n",
      "memory usage: 2.9+ MB\n"
     ]
    }
   ],
   "source": [
    "clean_rounds2.info()"
   ]
  },
  {
   "cell_type": "markdown",
   "metadata": {},
   "source": [
    "### Cleaning companies table"
   ]
  },
  {
   "cell_type": "code",
   "execution_count": 6,
   "metadata": {},
   "outputs": [
    {
     "name": "stdout",
     "output_type": "stream",
     "text": [
      "<class 'pandas.core.frame.DataFrame'>\n",
      "RangeIndex: 66368 entries, 0 to 66367\n",
      "Data columns (total 10 columns):\n",
      "permalink        66368 non-null object\n",
      "name             66367 non-null object\n",
      "homepage_url     61310 non-null object\n",
      "category_list    63220 non-null object\n",
      "status           66368 non-null object\n",
      "country_code     59410 non-null object\n",
      "state_code       57821 non-null object\n",
      "region           58338 non-null object\n",
      "city             58340 non-null object\n",
      "founded_at       51147 non-null object\n",
      "dtypes: object(10)\n",
      "memory usage: 5.1+ MB\n"
     ]
    }
   ],
   "source": [
    "companies.info()"
   ]
  },
  {
   "cell_type": "code",
   "execution_count": 7,
   "metadata": {},
   "outputs": [
    {
     "data": {
      "text/plain": [
       "permalink            0\n",
       "name                 1\n",
       "homepage_url      5058\n",
       "category_list     3148\n",
       "status               0\n",
       "country_code      6958\n",
       "state_code        8547\n",
       "region            8030\n",
       "city              8028\n",
       "founded_at       15221\n",
       "dtype: int64"
      ]
     },
     "execution_count": 7,
     "metadata": {},
     "output_type": "execute_result"
    }
   ],
   "source": [
    "# Printing number of null object per column\n",
    "companies.isnull().sum()"
   ]
  },
  {
   "cell_type": "markdown",
   "metadata": {},
   "source": [
    "### Cleaning companies Table : \n",
    "1. Here 'state_code','region','founded_at','homepage_url','homepage_url' &'city' are not required for analysis so dropping that columns.\n",
    "2. Also, rows not having 'country_code' data are useless so dropping the rows having 'country_code' as null.\n",
    "3. In the 'permalink' column the entries were similar but treated differently because of text case. So the whole column was converted to lower case."
   ]
  },
  {
   "cell_type": "code",
   "execution_count": 8,
   "metadata": {},
   "outputs": [
    {
     "data": {
      "text/plain": [
       "permalink           0\n",
       "name                1\n",
       "category_list    1606\n",
       "status              0\n",
       "country_code        0\n",
       "dtype: int64"
      ]
     },
     "execution_count": 8,
     "metadata": {},
     "output_type": "execute_result"
    }
   ],
   "source": [
    "#Creating a copy of companies table\n",
    "clean_companies = companies.copy()\n",
    "\n",
    "#Dropping unnecessary column\n",
    "clean_companies = companies.drop(['state_code','region','founded_at','homepage_url','homepage_url','city'], axis = 1)\n",
    "\n",
    "#Removing rows having 'country_code' or 'name' as null\n",
    "clean_companies = clean_companies.dropna(subset=['country_code'])\n",
    "\n",
    "#Converting permalink column to lower case\n",
    "clean_companies['permalink'] = companies['permalink'].str.lower() \n",
    "\n",
    "#Creating a copy of companies table\n",
    "clean_companies.isnull().sum()"
   ]
  },
  {
   "cell_type": "code",
   "execution_count": 9,
   "metadata": {},
   "outputs": [
    {
     "name": "stdout",
     "output_type": "stream",
     "text": [
      "<class 'pandas.core.frame.DataFrame'>\n",
      "Int64Index: 59410 entries, 0 to 66366\n",
      "Data columns (total 5 columns):\n",
      "permalink        59410 non-null object\n",
      "name             59409 non-null object\n",
      "category_list    57804 non-null object\n",
      "status           59410 non-null object\n",
      "country_code     59410 non-null object\n",
      "dtypes: object(5)\n",
      "memory usage: 2.7+ MB\n"
     ]
    }
   ],
   "source": [
    "clean_companies.info()"
   ]
  },
  {
   "cell_type": "markdown",
   "metadata": {},
   "source": [
    "### Q1: How many unique companies are present in rounds2?"
   ]
  },
  {
   "cell_type": "code",
   "execution_count": 10,
   "metadata": {
    "scrolled": true
   },
   "outputs": [
    {
     "data": {
      "text/plain": [
       "53915"
      ]
     },
     "execution_count": 10,
     "metadata": {},
     "output_type": "execute_result"
    }
   ],
   "source": [
    "#Finding the uniques values of the companies from round2\n",
    "clean_rounds2[\"company_permalink\"].nunique()"
   ]
  },
  {
   "cell_type": "markdown",
   "metadata": {},
   "source": [
    "### Ans: 53915"
   ]
  },
  {
   "cell_type": "markdown",
   "metadata": {},
   "source": [
    "### Q2: How many unique companies are present in the companies file?"
   ]
  },
  {
   "cell_type": "code",
   "execution_count": 11,
   "metadata": {
    "scrolled": true
   },
   "outputs": [
    {
     "data": {
      "text/plain": [
       "59410"
      ]
     },
     "execution_count": 11,
     "metadata": {},
     "output_type": "execute_result"
    }
   ],
   "source": [
    "clean_companies['permalink'] = companies['permalink'].str.lower() \n",
    "clean_companies[\"permalink\"].nunique()"
   ]
  },
  {
   "cell_type": "markdown",
   "metadata": {},
   "source": [
    "### Ans: 59410"
   ]
  },
  {
   "cell_type": "markdown",
   "metadata": {},
   "source": [
    "### Q3: In the companies data frame, which column can be used as the  unique key for each company? Write the name of the column.\n",
    "### Ans: \"permalink\"\n",
    "Because permalink is a type of persistent identifier and the word permalink is sometimes used as a synonym of persistent identifier. "
   ]
  },
  {
   "cell_type": "markdown",
   "metadata": {},
   "source": [
    "### Q4: Are there any companies in the rounds2 file which are not  present in companies ? Answer Y/N."
   ]
  },
  {
   "cell_type": "code",
   "execution_count": 12,
   "metadata": {},
   "outputs": [
    {
     "name": "stdout",
     "output_type": "stream",
     "text": [
      "4648\n"
     ]
    }
   ],
   "source": [
    "#Count all the unique companies from 'companies' table and also include common companies between 'round2' & 'companies' table\n",
    "companies_frame = pd.merge(clean_rounds2, clean_companies, how='right', left_on='company_permalink', right_on='permalink')\n",
    "companies_companies = companies_frame[\"company_permalink\"].nunique()\n",
    "\n",
    "#Count all the unique companies from both 'companies' & 'round2' tables\n",
    "all_frame = pd.merge(clean_rounds2, clean_companies, how='outer', left_on='company_permalink', right_on='permalink')\n",
    "all_companies = all_frame[\"company_permalink\"].nunique()\n",
    "\n",
    "#Printing the count of uniques companies from 'round2' table which are not present in 'companies' tables\n",
    "print(all_companies- companies_companies)"
   ]
  },
  {
   "cell_type": "markdown",
   "metadata": {},
   "source": [
    "### Ans: N\n",
    "Because 4648 companies are present in 'round2' table which are not present in 'companies' tables."
   ]
  },
  {
   "cell_type": "markdown",
   "metadata": {},
   "source": [
    "### Q5: Merge the two data frames so that all  variables (columns)  in the companies frame are added to the rounds2 data frame. Name the merged frame master_frame. How many observations are present in master_frame ?"
   ]
  },
  {
   "cell_type": "code",
   "execution_count": 13,
   "metadata": {},
   "outputs": [
    {
     "data": {
      "text/plain": [
       "94959"
      ]
     },
     "execution_count": 13,
     "metadata": {},
     "output_type": "execute_result"
    }
   ],
   "source": [
    "master_frame = pd.merge(clean_rounds2, clean_companies, how='left', left_on='company_permalink', right_on='permalink')\n",
    "master_frame = master_frame.drop(['permalink'], axis = 1)\n",
    "len(master_frame.index)"
   ]
  },
  {
   "cell_type": "markdown",
   "metadata": {},
   "source": [
    "### Ans: 94959 observation are present in master_frame."
   ]
  },
  {
   "cell_type": "markdown",
   "metadata": {},
   "source": [
    "## Checkpoint 2: Funding Type Analysis"
   ]
  },
  {
   "cell_type": "markdown",
   "metadata": {},
   "source": [
    "### Q1: Average funding amount of venture type?"
   ]
  },
  {
   "cell_type": "code",
   "execution_count": 14,
   "metadata": {},
   "outputs": [
    {
     "data": {
      "text/plain": [
       "funding_round_type\n",
       "venture    1.174895e+07\n",
       "Name: raised_amount_usd, dtype: float64"
      ]
     },
     "execution_count": 14,
     "metadata": {},
     "output_type": "execute_result"
    }
   ],
   "source": [
    "#Creating a copy of master frame\n",
    "copy_frame = master_frame.copy()\n",
    "\n",
    "# making boolean series for a team name \n",
    "filter = copy_frame[\"funding_round_type\"]== \"venture\"\n",
    "  \n",
    "# filtering data \n",
    "copy_frame.where(filter, inplace =True) \n",
    "\n",
    "#Creating group by object\n",
    "obj = copy_frame.groupby(['funding_round_type'])\n",
    "\n",
    "#Applying grouping & taking average\n",
    "ventureAvg = obj['raised_amount_usd'].mean()\n",
    "ventureAvg"
   ]
  },
  {
   "cell_type": "markdown",
   "metadata": {},
   "source": [
    "### Ans: 11.74 Million USD"
   ]
  },
  {
   "cell_type": "markdown",
   "metadata": {},
   "source": [
    "### Q2: Average funding amount of angel type?"
   ]
  },
  {
   "cell_type": "code",
   "execution_count": 15,
   "metadata": {},
   "outputs": [
    {
     "data": {
      "text/plain": [
       "funding_round_type\n",
       "angel    958694.469753\n",
       "Name: raised_amount_usd, dtype: float64"
      ]
     },
     "execution_count": 15,
     "metadata": {},
     "output_type": "execute_result"
    }
   ],
   "source": [
    "#Creating a copy of master frame\n",
    "copy_frame = master_frame.copy()\n",
    "\n",
    "# making boolean series for a team name \n",
    "filter = copy_frame[\"funding_round_type\"]== \"angel\"\n",
    "  \n",
    "# filtering data \n",
    "copy_frame.where(filter, inplace =True) \n",
    "\n",
    "#Creating group by object\n",
    "obj = copy_frame.groupby(['funding_round_type'])\n",
    "\n",
    "#Applying grouping & taking average\n",
    "ventureAvg = obj['raised_amount_usd'].mean()\n",
    "ventureAvg"
   ]
  },
  {
   "cell_type": "markdown",
   "metadata": {},
   "source": [
    "### Ans: 0.95 Million USD"
   ]
  },
  {
   "cell_type": "markdown",
   "metadata": {},
   "source": [
    "### Q3: Average funding amount of seed type?"
   ]
  },
  {
   "cell_type": "code",
   "execution_count": 16,
   "metadata": {},
   "outputs": [
    {
     "data": {
      "text/plain": [
       "funding_round_type\n",
       "seed    719817.996907\n",
       "Name: raised_amount_usd, dtype: float64"
      ]
     },
     "execution_count": 16,
     "metadata": {},
     "output_type": "execute_result"
    }
   ],
   "source": [
    "#Creating a copy of master frame\n",
    "copy_frame = master_frame.copy()\n",
    "\n",
    "# making boolean series for a team name \n",
    "filter = copy_frame[\"funding_round_type\"]== \"seed\"\n",
    "  \n",
    "# filtering data \n",
    "copy_frame.where(filter, inplace =True) \n",
    "\n",
    "#Creating group by object\n",
    "obj = copy_frame.groupby(['funding_round_type'])\n",
    "\n",
    "#Applying grouping & taking average\n",
    "ventureAvg = obj['raised_amount_usd'].mean()\n",
    "ventureAvg"
   ]
  },
  {
   "cell_type": "markdown",
   "metadata": {},
   "source": [
    "### Ans: 0.71 Million USD"
   ]
  },
  {
   "cell_type": "markdown",
   "metadata": {},
   "source": [
    "### Q4: Average funding amount of private_equity type?"
   ]
  },
  {
   "cell_type": "code",
   "execution_count": 17,
   "metadata": {},
   "outputs": [
    {
     "data": {
      "text/plain": [
       "funding_round_type\n",
       "private_equity    7.330859e+07\n",
       "Name: raised_amount_usd, dtype: float64"
      ]
     },
     "execution_count": 17,
     "metadata": {},
     "output_type": "execute_result"
    }
   ],
   "source": [
    "#Creating a copy of master frame\n",
    "copy_frame = master_frame.copy()\n",
    "\n",
    "# making boolean series for a team name \n",
    "filter = copy_frame[\"funding_round_type\"]== \"private_equity\"\n",
    "  \n",
    "# filtering data \n",
    "copy_frame.where(filter, inplace =True) \n",
    "\n",
    "#Creating group by object\n",
    "obj = copy_frame.groupby(['funding_round_type'])\n",
    "\n",
    "#Applying grouping & taking average\n",
    "ventureAvg = obj['raised_amount_usd'].mean()\n",
    "ventureAvg"
   ]
  },
  {
   "cell_type": "markdown",
   "metadata": {},
   "source": [
    "### Ans: 73.33 Million USD"
   ]
  },
  {
   "cell_type": "markdown",
   "metadata": {},
   "source": [
    "### Q5: Considering that Spark Funds wants to invest between 5 to 15 million USD per  investment round, which investment type is the most suitable for them?"
   ]
  },
  {
   "cell_type": "markdown",
   "metadata": {},
   "source": [
    "### Ans: venture"
   ]
  },
  {
   "cell_type": "markdown",
   "metadata": {},
   "source": [
    "## Checkpoint 3: Country Analysis"
   ]
  },
  {
   "cell_type": "markdown",
   "metadata": {},
   "source": [
    "### The top nine countries which have received the highest total funding (across ALL sectors for the chosen investment type)"
   ]
  },
  {
   "cell_type": "code",
   "execution_count": 18,
   "metadata": {},
   "outputs": [
    {
     "data": {
      "text/plain": [
       "country_code\n",
       "USA    4.225108e+11\n",
       "CHN    3.983542e+10\n",
       "GBR    2.024563e+10\n",
       "IND    1.439186e+10\n",
       "CAN    9.583332e+09\n",
       "FRA    7.259537e+09\n",
       "ISR    6.907515e+09\n",
       "DEU    6.346960e+09\n",
       "JPN    3.363677e+09\n",
       "Name: raised_amount_usd, dtype: float64"
      ]
     },
     "execution_count": 18,
     "metadata": {},
     "output_type": "execute_result"
    }
   ],
   "source": [
    "#Creating a copy of master frame\n",
    "copy_frame = master_frame.copy()\n",
    "\n",
    "#Delete the rows other than 'private_equity' funding_round_type\n",
    "copy_frame = copy_frame[copy_frame.funding_round_type == 'venture']\n",
    "\n",
    "#Creating group by object\n",
    "obj = copy_frame.groupby(['country_code'])\n",
    "\n",
    "#Applying grouping & taking top 9 countries based on raised_amount_usd\n",
    "countriesCount = obj['raised_amount_usd'].sum().sort_values(ascending = False)\n",
    "top9 = countriesCount.head(9)\n",
    "\n",
    "#Printing top9\n",
    "top9"
   ]
  },
  {
   "cell_type": "markdown",
   "metadata": {},
   "source": [
    "### Q1: Top English speaking country?"
   ]
  },
  {
   "cell_type": "markdown",
   "metadata": {},
   "source": [
    "### Ans: USA i.e. United States."
   ]
  },
  {
   "cell_type": "markdown",
   "metadata": {},
   "source": [
    "### Q2: Second English speaking country?"
   ]
  },
  {
   "cell_type": "markdown",
   "metadata": {},
   "source": [
    "### Ans: GBR i.e. United Kingdom."
   ]
  },
  {
   "cell_type": "markdown",
   "metadata": {},
   "source": [
    "### Q3: Third English speaking country?"
   ]
  },
  {
   "cell_type": "markdown",
   "metadata": {},
   "source": [
    "### Ans: IND i.e. India."
   ]
  },
  {
   "cell_type": "markdown",
   "metadata": {},
   "source": [
    "## Checkpoint 4: Sector Analysis 1"
   ]
  },
  {
   "cell_type": "code",
   "execution_count": 19,
   "metadata": {},
   "outputs": [
    {
     "data": {
      "text/plain": [
       "0                                                Media\n",
       "1    Application Platforms|Real Time|Social Network...\n",
       "2                                                  NaN\n",
       "3                                          Curated Web\n",
       "4                                                Games\n",
       "Name: category_list, dtype: object"
      ]
     },
     "execution_count": 19,
     "metadata": {},
     "output_type": "execute_result"
    }
   ],
   "source": [
    "#printing top 5 values of category_list column objects\n",
    "master_frame['category_list'].head(5)"
   ]
  },
  {
   "cell_type": "code",
   "execution_count": 20,
   "metadata": {},
   "outputs": [
    {
     "data": {
      "text/plain": [
       "0                    Media\n",
       "1    Application Platforms\n",
       "2                      NaN\n",
       "3              Curated Web\n",
       "4                    Games\n",
       "Name: primary_sector, dtype: object"
      ]
     },
     "execution_count": 20,
     "metadata": {},
     "output_type": "execute_result"
    }
   ],
   "source": [
    "#Creating a copy of master frame\n",
    "master_frameV2 = master_frame.copy()\n",
    "\n",
    "#Adding column 'primary_sector' column\n",
    "address = master_frameV2['category_list'].str.split(\"|\", n = 1, expand = True) \n",
    "master_frameV2['primary_sector'] = address[0]\n",
    "\n",
    "#printing top 5 values of extracted primary_sector objects\n",
    "master_frameV2['primary_sector'].head(5)"
   ]
  },
  {
   "cell_type": "code",
   "execution_count": 21,
   "metadata": {},
   "outputs": [],
   "source": [
    "#Correct the spellings in the mapping file\n",
    "correct_mapping = mapping.copy()\n",
    "correct_mapping.category_list.replace(to_replace='0',value='na', inplace=True, regex=True)"
   ]
  },
  {
   "cell_type": "code",
   "execution_count": 22,
   "metadata": {},
   "outputs": [
    {
     "data": {
      "text/html": [
       "<div>\n",
       "<style scoped>\n",
       "    .dataframe tbody tr th:only-of-type {\n",
       "        vertical-align: middle;\n",
       "    }\n",
       "\n",
       "    .dataframe tbody tr th {\n",
       "        vertical-align: top;\n",
       "    }\n",
       "\n",
       "    .dataframe thead th {\n",
       "        text-align: right;\n",
       "    }\n",
       "</style>\n",
       "<table border=\"1\" class=\"dataframe\">\n",
       "  <thead>\n",
       "    <tr style=\"text-align: right;\">\n",
       "      <th></th>\n",
       "      <th>category_list</th>\n",
       "      <th>main_sector</th>\n",
       "    </tr>\n",
       "  </thead>\n",
       "  <tbody>\n",
       "    <tr>\n",
       "      <td>1</td>\n",
       "      <td>3D</td>\n",
       "      <td>Manufacturing</td>\n",
       "    </tr>\n",
       "    <tr>\n",
       "      <td>2</td>\n",
       "      <td>3D Printing</td>\n",
       "      <td>Manufacturing</td>\n",
       "    </tr>\n",
       "    <tr>\n",
       "      <td>3</td>\n",
       "      <td>3D Technology</td>\n",
       "      <td>Manufacturing</td>\n",
       "    </tr>\n",
       "    <tr>\n",
       "      <td>7</td>\n",
       "      <td>Advanced Materials</td>\n",
       "      <td>Manufacturing</td>\n",
       "    </tr>\n",
       "    <tr>\n",
       "      <td>15</td>\n",
       "      <td>Agriculture</td>\n",
       "      <td>Manufacturing</td>\n",
       "    </tr>\n",
       "  </tbody>\n",
       "</table>\n",
       "</div>"
      ],
      "text/plain": [
       "         category_list    main_sector\n",
       "1                   3D  Manufacturing\n",
       "2          3D Printing  Manufacturing\n",
       "3        3D Technology  Manufacturing\n",
       "7   Advanced Materials  Manufacturing\n",
       "15         Agriculture  Manufacturing"
      ]
     },
     "execution_count": 22,
     "metadata": {},
     "output_type": "execute_result"
    }
   ],
   "source": [
    "#Creating a copy of mapping table\n",
    "mapped = correct_mapping.copy()\n",
    "\n",
    "#Converting the table from wide to long format\n",
    "mapped = pd.melt(mapped, id_vars =['category_list'],\n",
    "                       value_vars =['Manufacturing','Automotive & Sports',\n",
    "                                    'Cleantech / Semiconductors','Entertainment',\n",
    "                                    'Health','News, Search and Messaging','Others',\n",
    "                                    'Social, Finance, Analytics, Advertising'])\n",
    "mapped = mapped[~(mapped.value == 0)]\n",
    "mapped = mapped.drop('value', axis = 1)\n",
    "mapped = mapped.rename(columns = {\"variable\":\"main_sector\"})\n",
    "\n",
    "#Printing first 5 rows of new mapped mapping table\n",
    "mapped.head(5)"
   ]
  },
  {
   "cell_type": "code",
   "execution_count": 23,
   "metadata": {},
   "outputs": [
    {
     "data": {
      "text/html": [
       "<div>\n",
       "<style scoped>\n",
       "    .dataframe tbody tr th:only-of-type {\n",
       "        vertical-align: middle;\n",
       "    }\n",
       "\n",
       "    .dataframe tbody tr th {\n",
       "        vertical-align: top;\n",
       "    }\n",
       "\n",
       "    .dataframe thead th {\n",
       "        text-align: right;\n",
       "    }\n",
       "</style>\n",
       "<table border=\"1\" class=\"dataframe\">\n",
       "  <thead>\n",
       "    <tr style=\"text-align: right;\">\n",
       "      <th></th>\n",
       "      <th>company_permalink</th>\n",
       "      <th>funding_round_type</th>\n",
       "      <th>raised_amount_usd</th>\n",
       "      <th>name</th>\n",
       "      <th>category_list</th>\n",
       "      <th>status</th>\n",
       "      <th>country_code</th>\n",
       "      <th>primary_sector</th>\n",
       "    </tr>\n",
       "  </thead>\n",
       "  <tbody>\n",
       "    <tr>\n",
       "      <td>0</td>\n",
       "      <td>/organization/-fame</td>\n",
       "      <td>venture</td>\n",
       "      <td>10000000.0</td>\n",
       "      <td>#fame</td>\n",
       "      <td>Media</td>\n",
       "      <td>operating</td>\n",
       "      <td>IND</td>\n",
       "      <td>Media</td>\n",
       "    </tr>\n",
       "    <tr>\n",
       "      <td>1</td>\n",
       "      <td>/organization/-qounter</td>\n",
       "      <td>seed</td>\n",
       "      <td>700000.0</td>\n",
       "      <td>:Qounter</td>\n",
       "      <td>Application Platforms|Real Time|Social Network...</td>\n",
       "      <td>operating</td>\n",
       "      <td>USA</td>\n",
       "      <td>Application Platforms</td>\n",
       "    </tr>\n",
       "    <tr>\n",
       "      <td>2</td>\n",
       "      <td>/organization/-the-one-of-them-inc-</td>\n",
       "      <td>venture</td>\n",
       "      <td>3406878.0</td>\n",
       "      <td>NaN</td>\n",
       "      <td>NaN</td>\n",
       "      <td>NaN</td>\n",
       "      <td>NaN</td>\n",
       "      <td>NaN</td>\n",
       "    </tr>\n",
       "    <tr>\n",
       "      <td>3</td>\n",
       "      <td>/organization/0-6-com</td>\n",
       "      <td>venture</td>\n",
       "      <td>2000000.0</td>\n",
       "      <td>0-6.com</td>\n",
       "      <td>Curated Web</td>\n",
       "      <td>operating</td>\n",
       "      <td>CHN</td>\n",
       "      <td>Curated Web</td>\n",
       "    </tr>\n",
       "    <tr>\n",
       "      <td>4</td>\n",
       "      <td>/organization/01games-technology</td>\n",
       "      <td>undisclosed</td>\n",
       "      <td>41250.0</td>\n",
       "      <td>01Games Technology</td>\n",
       "      <td>Games</td>\n",
       "      <td>operating</td>\n",
       "      <td>HKG</td>\n",
       "      <td>Games</td>\n",
       "    </tr>\n",
       "  </tbody>\n",
       "</table>\n",
       "</div>"
      ],
      "text/plain": [
       "                     company_permalink funding_round_type  raised_amount_usd  \\\n",
       "0                  /organization/-fame            venture         10000000.0   \n",
       "1               /organization/-qounter               seed           700000.0   \n",
       "2  /organization/-the-one-of-them-inc-            venture          3406878.0   \n",
       "3                /organization/0-6-com            venture          2000000.0   \n",
       "4     /organization/01games-technology        undisclosed            41250.0   \n",
       "\n",
       "                 name                                      category_list  \\\n",
       "0               #fame                                              Media   \n",
       "1            :Qounter  Application Platforms|Real Time|Social Network...   \n",
       "2                 NaN                                                NaN   \n",
       "3             0-6.com                                        Curated Web   \n",
       "4  01Games Technology                                              Games   \n",
       "\n",
       "      status country_code         primary_sector  \n",
       "0  operating          IND                  Media  \n",
       "1  operating          USA  Application Platforms  \n",
       "2        NaN          NaN                    NaN  \n",
       "3  operating          CHN            Curated Web  \n",
       "4  operating          HKG                  Games  "
      ]
     },
     "execution_count": 23,
     "metadata": {},
     "output_type": "execute_result"
    }
   ],
   "source": [
    "master_frameV2.head(5)"
   ]
  },
  {
   "cell_type": "code",
   "execution_count": 24,
   "metadata": {},
   "outputs": [
    {
     "data": {
      "text/html": [
       "<div>\n",
       "<style scoped>\n",
       "    .dataframe tbody tr th:only-of-type {\n",
       "        vertical-align: middle;\n",
       "    }\n",
       "\n",
       "    .dataframe tbody tr th {\n",
       "        vertical-align: top;\n",
       "    }\n",
       "\n",
       "    .dataframe thead th {\n",
       "        text-align: right;\n",
       "    }\n",
       "</style>\n",
       "<table border=\"1\" class=\"dataframe\">\n",
       "  <thead>\n",
       "    <tr style=\"text-align: right;\">\n",
       "      <th></th>\n",
       "      <th>company_permalink</th>\n",
       "      <th>funding_round_type</th>\n",
       "      <th>raised_amount_usd</th>\n",
       "      <th>name</th>\n",
       "      <th>status</th>\n",
       "      <th>country_code</th>\n",
       "      <th>primary_sector</th>\n",
       "      <th>main_sector</th>\n",
       "    </tr>\n",
       "  </thead>\n",
       "  <tbody>\n",
       "    <tr>\n",
       "      <td>0</td>\n",
       "      <td>/organization/-fame</td>\n",
       "      <td>venture</td>\n",
       "      <td>10000000.0</td>\n",
       "      <td>#fame</td>\n",
       "      <td>operating</td>\n",
       "      <td>IND</td>\n",
       "      <td>media</td>\n",
       "      <td>Entertainment</td>\n",
       "    </tr>\n",
       "    <tr>\n",
       "      <td>1</td>\n",
       "      <td>/organization/-qounter</td>\n",
       "      <td>seed</td>\n",
       "      <td>700000.0</td>\n",
       "      <td>:Qounter</td>\n",
       "      <td>operating</td>\n",
       "      <td>USA</td>\n",
       "      <td>application platforms</td>\n",
       "      <td>News, Search and Messaging</td>\n",
       "    </tr>\n",
       "    <tr>\n",
       "      <td>2</td>\n",
       "      <td>/organization/-the-one-of-them-inc-</td>\n",
       "      <td>venture</td>\n",
       "      <td>3406878.0</td>\n",
       "      <td>NaN</td>\n",
       "      <td>NaN</td>\n",
       "      <td>NaN</td>\n",
       "      <td>NaN</td>\n",
       "      <td>NaN</td>\n",
       "    </tr>\n",
       "    <tr>\n",
       "      <td>3</td>\n",
       "      <td>/organization/0-6-com</td>\n",
       "      <td>venture</td>\n",
       "      <td>2000000.0</td>\n",
       "      <td>0-6.com</td>\n",
       "      <td>operating</td>\n",
       "      <td>CHN</td>\n",
       "      <td>curated web</td>\n",
       "      <td>News, Search and Messaging</td>\n",
       "    </tr>\n",
       "    <tr>\n",
       "      <td>4</td>\n",
       "      <td>/organization/01games-technology</td>\n",
       "      <td>undisclosed</td>\n",
       "      <td>41250.0</td>\n",
       "      <td>01Games Technology</td>\n",
       "      <td>operating</td>\n",
       "      <td>HKG</td>\n",
       "      <td>games</td>\n",
       "      <td>Entertainment</td>\n",
       "    </tr>\n",
       "  </tbody>\n",
       "</table>\n",
       "</div>"
      ],
      "text/plain": [
       "                     company_permalink funding_round_type  raised_amount_usd  \\\n",
       "0                  /organization/-fame            venture         10000000.0   \n",
       "1               /organization/-qounter               seed           700000.0   \n",
       "2  /organization/-the-one-of-them-inc-            venture          3406878.0   \n",
       "3                /organization/0-6-com            venture          2000000.0   \n",
       "4     /organization/01games-technology        undisclosed            41250.0   \n",
       "\n",
       "                 name     status country_code         primary_sector  \\\n",
       "0               #fame  operating          IND                  media   \n",
       "1            :Qounter  operating          USA  application platforms   \n",
       "2                 NaN        NaN          NaN                    NaN   \n",
       "3             0-6.com  operating          CHN            curated web   \n",
       "4  01Games Technology  operating          HKG                  games   \n",
       "\n",
       "                  main_sector  \n",
       "0               Entertainment  \n",
       "1  News, Search and Messaging  \n",
       "2                         NaN  \n",
       "3  News, Search and Messaging  \n",
       "4               Entertainment  "
      ]
     },
     "execution_count": 24,
     "metadata": {},
     "output_type": "execute_result"
    }
   ],
   "source": [
    "#Lower case the values in the unique columns before merging\n",
    "mapped['category_list'] = mapped['category_list'].str.lower() \n",
    "master_frameV2['primary_sector'] = master_frameV2['primary_sector'].str.lower() \n",
    "\n",
    "#Merging the mapped and master frame\n",
    "master_frameV3 = pd.merge(master_frameV2, mapped, how='left', left_on='primary_sector', right_on='category_list')\n",
    "master_frameV3 = master_frameV3.drop(['category_list_y','category_list_x'], axis = 1)\n",
    "master_frameV3.head(5)"
   ]
  },
  {
   "cell_type": "markdown",
   "metadata": {},
   "source": [
    "## Checkpoint 5: Sector Analysis 2"
   ]
  },
  {
   "cell_type": "code",
   "execution_count": 25,
   "metadata": {},
   "outputs": [
    {
     "data": {
      "text/html": [
       "<div>\n",
       "<style scoped>\n",
       "    .dataframe tbody tr th:only-of-type {\n",
       "        vertical-align: middle;\n",
       "    }\n",
       "\n",
       "    .dataframe tbody tr th {\n",
       "        vertical-align: top;\n",
       "    }\n",
       "\n",
       "    .dataframe thead th {\n",
       "        text-align: right;\n",
       "    }\n",
       "</style>\n",
       "<table border=\"1\" class=\"dataframe\">\n",
       "  <thead>\n",
       "    <tr style=\"text-align: right;\">\n",
       "      <th></th>\n",
       "      <th>company_permalink</th>\n",
       "      <th>funding_round_type</th>\n",
       "      <th>raised_amount_usd</th>\n",
       "      <th>name</th>\n",
       "      <th>status</th>\n",
       "      <th>country_code</th>\n",
       "      <th>primary_sector</th>\n",
       "      <th>main_sector</th>\n",
       "    </tr>\n",
       "  </thead>\n",
       "  <tbody>\n",
       "    <tr>\n",
       "      <td>10</td>\n",
       "      <td>/organization/0xdata</td>\n",
       "      <td>venture</td>\n",
       "      <td>8900000.0</td>\n",
       "      <td>H2O.ai</td>\n",
       "      <td>operating</td>\n",
       "      <td>USA</td>\n",
       "      <td>analytics</td>\n",
       "      <td>Social, Finance, Analytics, Advertising</td>\n",
       "    </tr>\n",
       "    <tr>\n",
       "      <td>16</td>\n",
       "      <td>/organization/1-mainstream</td>\n",
       "      <td>venture</td>\n",
       "      <td>5000000.0</td>\n",
       "      <td>1 Mainstream</td>\n",
       "      <td>acquired</td>\n",
       "      <td>USA</td>\n",
       "      <td>apps</td>\n",
       "      <td>News, Search and Messaging</td>\n",
       "    </tr>\n",
       "    <tr>\n",
       "      <td>78</td>\n",
       "      <td>/organization/128-technology</td>\n",
       "      <td>venture</td>\n",
       "      <td>11999347.0</td>\n",
       "      <td>128 Technology</td>\n",
       "      <td>operating</td>\n",
       "      <td>USA</td>\n",
       "      <td>service providers</td>\n",
       "      <td>Others</td>\n",
       "    </tr>\n",
       "    <tr>\n",
       "      <td>84</td>\n",
       "      <td>/organization/1366-technologies</td>\n",
       "      <td>venture</td>\n",
       "      <td>15000000.0</td>\n",
       "      <td>1366 Technologies</td>\n",
       "      <td>operating</td>\n",
       "      <td>USA</td>\n",
       "      <td>manufacturing</td>\n",
       "      <td>Manufacturing</td>\n",
       "    </tr>\n",
       "    <tr>\n",
       "      <td>85</td>\n",
       "      <td>/organization/1366-technologies</td>\n",
       "      <td>venture</td>\n",
       "      <td>5000000.0</td>\n",
       "      <td>1366 Technologies</td>\n",
       "      <td>operating</td>\n",
       "      <td>USA</td>\n",
       "      <td>manufacturing</td>\n",
       "      <td>Manufacturing</td>\n",
       "    </tr>\n",
       "  </tbody>\n",
       "</table>\n",
       "</div>"
      ],
      "text/plain": [
       "                  company_permalink funding_round_type  raised_amount_usd  \\\n",
       "10             /organization/0xdata            venture          8900000.0   \n",
       "16       /organization/1-mainstream            venture          5000000.0   \n",
       "78     /organization/128-technology            venture         11999347.0   \n",
       "84  /organization/1366-technologies            venture         15000000.0   \n",
       "85  /organization/1366-technologies            venture          5000000.0   \n",
       "\n",
       "                 name     status country_code     primary_sector  \\\n",
       "10             H2O.ai  operating          USA          analytics   \n",
       "16       1 Mainstream   acquired          USA               apps   \n",
       "78     128 Technology  operating          USA  service providers   \n",
       "84  1366 Technologies  operating          USA      manufacturing   \n",
       "85  1366 Technologies  operating          USA      manufacturing   \n",
       "\n",
       "                                main_sector  \n",
       "10  Social, Finance, Analytics, Advertising  \n",
       "16               News, Search and Messaging  \n",
       "78                                   Others  \n",
       "84                            Manufacturing  \n",
       "85                            Manufacturing  "
      ]
     },
     "execution_count": 25,
     "metadata": {},
     "output_type": "execute_result"
    }
   ],
   "source": [
    "#Filter of 5-15million, venture, and USA\n",
    "D1 = master_frameV3.copy()\n",
    "\n",
    "D1 = D1[D1['country_code'] == 'USA']\n",
    "\n",
    "D1 = D1[(D1['raised_amount_usd'] >= 5000000.0)]\n",
    "D1 = D1[D1['raised_amount_usd'] <= 15000000.0]\n",
    "\n",
    "D1 = D1[D1['funding_round_type'] == 'venture']\n",
    "\n",
    "D1.head(5)"
   ]
  },
  {
   "cell_type": "code",
   "execution_count": 26,
   "metadata": {},
   "outputs": [
    {
     "data": {
      "text/html": [
       "<div>\n",
       "<style scoped>\n",
       "    .dataframe tbody tr th:only-of-type {\n",
       "        vertical-align: middle;\n",
       "    }\n",
       "\n",
       "    .dataframe tbody tr th {\n",
       "        vertical-align: top;\n",
       "    }\n",
       "\n",
       "    .dataframe thead th {\n",
       "        text-align: right;\n",
       "    }\n",
       "</style>\n",
       "<table border=\"1\" class=\"dataframe\">\n",
       "  <thead>\n",
       "    <tr style=\"text-align: right;\">\n",
       "      <th></th>\n",
       "      <th>company_permalink</th>\n",
       "      <th>funding_round_type</th>\n",
       "      <th>raised_amount_usd</th>\n",
       "      <th>name</th>\n",
       "      <th>status</th>\n",
       "      <th>country_code</th>\n",
       "      <th>primary_sector</th>\n",
       "      <th>main_sector</th>\n",
       "    </tr>\n",
       "  </thead>\n",
       "  <tbody>\n",
       "    <tr>\n",
       "      <td>309</td>\n",
       "      <td>/organization/365scores</td>\n",
       "      <td>venture</td>\n",
       "      <td>5500000.0</td>\n",
       "      <td>365Scores</td>\n",
       "      <td>operating</td>\n",
       "      <td>GBR</td>\n",
       "      <td>android</td>\n",
       "      <td>Social, Finance, Analytics, Advertising</td>\n",
       "    </tr>\n",
       "    <tr>\n",
       "      <td>671</td>\n",
       "      <td>/organization/7digital</td>\n",
       "      <td>venture</td>\n",
       "      <td>8468328.0</td>\n",
       "      <td>7digital</td>\n",
       "      <td>acquired</td>\n",
       "      <td>GBR</td>\n",
       "      <td>content creators</td>\n",
       "      <td>Entertainment</td>\n",
       "    </tr>\n",
       "    <tr>\n",
       "      <td>672</td>\n",
       "      <td>/organization/7digital</td>\n",
       "      <td>venture</td>\n",
       "      <td>10000000.0</td>\n",
       "      <td>7digital</td>\n",
       "      <td>acquired</td>\n",
       "      <td>GBR</td>\n",
       "      <td>content creators</td>\n",
       "      <td>Entertainment</td>\n",
       "    </tr>\n",
       "    <tr>\n",
       "      <td>730</td>\n",
       "      <td>/organization/90min</td>\n",
       "      <td>venture</td>\n",
       "      <td>15000000.0</td>\n",
       "      <td>90min</td>\n",
       "      <td>operating</td>\n",
       "      <td>GBR</td>\n",
       "      <td>media</td>\n",
       "      <td>Entertainment</td>\n",
       "    </tr>\n",
       "    <tr>\n",
       "      <td>731</td>\n",
       "      <td>/organization/90min</td>\n",
       "      <td>venture</td>\n",
       "      <td>5800000.0</td>\n",
       "      <td>90min</td>\n",
       "      <td>operating</td>\n",
       "      <td>GBR</td>\n",
       "      <td>media</td>\n",
       "      <td>Entertainment</td>\n",
       "    </tr>\n",
       "  </tbody>\n",
       "</table>\n",
       "</div>"
      ],
      "text/plain": [
       "           company_permalink funding_round_type  raised_amount_usd       name  \\\n",
       "309  /organization/365scores            venture          5500000.0  365Scores   \n",
       "671   /organization/7digital            venture          8468328.0   7digital   \n",
       "672   /organization/7digital            venture         10000000.0   7digital   \n",
       "730      /organization/90min            venture         15000000.0      90min   \n",
       "731      /organization/90min            venture          5800000.0      90min   \n",
       "\n",
       "        status country_code    primary_sector  \\\n",
       "309  operating          GBR           android   \n",
       "671   acquired          GBR  content creators   \n",
       "672   acquired          GBR  content creators   \n",
       "730  operating          GBR             media   \n",
       "731  operating          GBR             media   \n",
       "\n",
       "                                 main_sector  \n",
       "309  Social, Finance, Analytics, Advertising  \n",
       "671                            Entertainment  \n",
       "672                            Entertainment  \n",
       "730                            Entertainment  \n",
       "731                            Entertainment  "
      ]
     },
     "execution_count": 26,
     "metadata": {},
     "output_type": "execute_result"
    }
   ],
   "source": [
    "#Filter of 5-15million, venture, and GBR\n",
    "D2 = master_frameV3.copy()\n",
    "\n",
    "D2 = D2[D2['country_code'] == 'GBR']\n",
    "\n",
    "D2 = D2[(D2['raised_amount_usd'] >= 5000000.0)]\n",
    "D2 = D2[D2['raised_amount_usd'] <= 15000000.0]\n",
    "\n",
    "D2 = D2[D2['funding_round_type'] == 'venture']\n",
    "\n",
    "D2.head(5)"
   ]
  },
  {
   "cell_type": "code",
   "execution_count": 27,
   "metadata": {},
   "outputs": [
    {
     "data": {
      "text/html": [
       "<div>\n",
       "<style scoped>\n",
       "    .dataframe tbody tr th:only-of-type {\n",
       "        vertical-align: middle;\n",
       "    }\n",
       "\n",
       "    .dataframe tbody tr th {\n",
       "        vertical-align: top;\n",
       "    }\n",
       "\n",
       "    .dataframe thead th {\n",
       "        text-align: right;\n",
       "    }\n",
       "</style>\n",
       "<table border=\"1\" class=\"dataframe\">\n",
       "  <thead>\n",
       "    <tr style=\"text-align: right;\">\n",
       "      <th></th>\n",
       "      <th>company_permalink</th>\n",
       "      <th>funding_round_type</th>\n",
       "      <th>raised_amount_usd</th>\n",
       "      <th>name</th>\n",
       "      <th>status</th>\n",
       "      <th>country_code</th>\n",
       "      <th>primary_sector</th>\n",
       "      <th>main_sector</th>\n",
       "    </tr>\n",
       "  </thead>\n",
       "  <tbody>\n",
       "    <tr>\n",
       "      <td>0</td>\n",
       "      <td>/organization/-fame</td>\n",
       "      <td>venture</td>\n",
       "      <td>10000000.0</td>\n",
       "      <td>#fame</td>\n",
       "      <td>operating</td>\n",
       "      <td>IND</td>\n",
       "      <td>media</td>\n",
       "      <td>Entertainment</td>\n",
       "    </tr>\n",
       "    <tr>\n",
       "      <td>178</td>\n",
       "      <td>/organization/21diamonds-india</td>\n",
       "      <td>venture</td>\n",
       "      <td>6369507.0</td>\n",
       "      <td>21Diamonds</td>\n",
       "      <td>operating</td>\n",
       "      <td>IND</td>\n",
       "      <td>e-commerce</td>\n",
       "      <td>Others</td>\n",
       "    </tr>\n",
       "    <tr>\n",
       "      <td>810</td>\n",
       "      <td>/organization/a-little-world</td>\n",
       "      <td>venture</td>\n",
       "      <td>6410000.0</td>\n",
       "      <td>A LITTLE WORLD</td>\n",
       "      <td>operating</td>\n",
       "      <td>IND</td>\n",
       "      <td>finance</td>\n",
       "      <td>Social, Finance, Analytics, Advertising</td>\n",
       "    </tr>\n",
       "    <tr>\n",
       "      <td>2051</td>\n",
       "      <td>/organization/adlabs-imagica</td>\n",
       "      <td>venture</td>\n",
       "      <td>8180000.0</td>\n",
       "      <td>Adlabs Imagica</td>\n",
       "      <td>operating</td>\n",
       "      <td>IND</td>\n",
       "      <td>entertainment</td>\n",
       "      <td>Entertainment</td>\n",
       "    </tr>\n",
       "    <tr>\n",
       "      <td>2849</td>\n",
       "      <td>/organization/agile</td>\n",
       "      <td>venture</td>\n",
       "      <td>5740000.0</td>\n",
       "      <td>Agile</td>\n",
       "      <td>operating</td>\n",
       "      <td>IND</td>\n",
       "      <td>finance</td>\n",
       "      <td>Social, Finance, Analytics, Advertising</td>\n",
       "    </tr>\n",
       "  </tbody>\n",
       "</table>\n",
       "</div>"
      ],
      "text/plain": [
       "                   company_permalink funding_round_type  raised_amount_usd  \\\n",
       "0                /organization/-fame            venture         10000000.0   \n",
       "178   /organization/21diamonds-india            venture          6369507.0   \n",
       "810     /organization/a-little-world            venture          6410000.0   \n",
       "2051    /organization/adlabs-imagica            venture          8180000.0   \n",
       "2849             /organization/agile            venture          5740000.0   \n",
       "\n",
       "                name     status country_code primary_sector  \\\n",
       "0              #fame  operating          IND          media   \n",
       "178       21Diamonds  operating          IND     e-commerce   \n",
       "810   A LITTLE WORLD  operating          IND        finance   \n",
       "2051  Adlabs Imagica  operating          IND  entertainment   \n",
       "2849           Agile  operating          IND        finance   \n",
       "\n",
       "                                  main_sector  \n",
       "0                               Entertainment  \n",
       "178                                    Others  \n",
       "810   Social, Finance, Analytics, Advertising  \n",
       "2051                            Entertainment  \n",
       "2849  Social, Finance, Analytics, Advertising  "
      ]
     },
     "execution_count": 27,
     "metadata": {},
     "output_type": "execute_result"
    }
   ],
   "source": [
    "#Filter of 5-15million, venture, and CAN\n",
    "D3 = master_frameV3.copy()\n",
    "\n",
    "D3 = D3[D3['country_code'] == 'IND']\n",
    "\n",
    "D3 = D3[(D3['raised_amount_usd'] >= 5000000.0)]\n",
    "D3 = D3[D3['raised_amount_usd'] <= 15000000.0]\n",
    "\n",
    "D3 = D3[D3['funding_round_type'] == 'venture']\n",
    "\n",
    "D3.head(5)"
   ]
  },
  {
   "cell_type": "markdown",
   "metadata": {},
   "source": [
    " ### Q1. Total number of investments (count)"
   ]
  },
  {
   "cell_type": "code",
   "execution_count": 28,
   "metadata": {
    "scrolled": true
   },
   "outputs": [
    {
     "name": "stdout",
     "output_type": "stream",
     "text": [
      "D1 (USA):  12150\n",
      "D2 (GBR):  628\n",
      "D3 (IND):  330\n"
     ]
    }
   ],
   "source": [
    "print(\"D1 (USA): \", len(D1.index))\n",
    "print(\"D2 (GBR): \", len(D2.index))\n",
    "print(\"D3 (IND): \", len(D3.index))"
   ]
  },
  {
   "cell_type": "markdown",
   "metadata": {},
   "source": [
    "### Ans: \n",
    "D1 (USA) :  12150\n",
    "\n",
    "D2 (GBR) :  628\n",
    "\n",
    "D3 (IND) :  330"
   ]
  },
  {
   "cell_type": "markdown",
   "metadata": {},
   "source": [
    "### Q2. Total amount of investment (USD)"
   ]
  },
  {
   "cell_type": "code",
   "execution_count": 29,
   "metadata": {},
   "outputs": [
    {
     "name": "stdout",
     "output_type": "stream",
     "text": [
      "D1 (USA) investment:  108531347515.0\n",
      "D2 (GBR) investment:  5436843539.0\n",
      "D3 (IND) investment:  2976543602.0\n"
     ]
    }
   ],
   "source": [
    "print(\"D1 (USA) investment: \", D1['raised_amount_usd'].sum())\n",
    "print(\"D2 (GBR) investment: \", D2['raised_amount_usd'].sum())\n",
    "print(\"D3 (IND) investment: \", D3['raised_amount_usd'].sum())"
   ]
  },
  {
   "cell_type": "markdown",
   "metadata": {},
   "source": [
    "### Ans:\n",
    "D1 (USA) investment:  108.5 Billion\n",
    "\n",
    "D2 (GBR) investment:  5.4 Billion\n",
    "\n",
    "D3 (IND) investment:  2.9 Billion"
   ]
  },
  {
   "cell_type": "markdown",
   "metadata": {},
   "source": [
    "### Q3 - Q8. Sector names and number of investments"
   ]
  },
  {
   "cell_type": "code",
   "execution_count": 30,
   "metadata": {},
   "outputs": [
    {
     "data": {
      "text/plain": [
       "main_sector\n",
       "Others                                     2950\n",
       "Social, Finance, Analytics, Advertising    2714\n",
       "Cleantech / Semiconductors                 2350\n",
       "News, Search and Messaging                 1583\n",
       "Health                                      909\n",
       "Manufacturing                               799\n",
       "Entertainment                               591\n",
       "Automotive & Sports                         167\n",
       "Name: raised_amount_usd, dtype: int64"
      ]
     },
     "execution_count": 30,
     "metadata": {},
     "output_type": "execute_result"
    }
   ],
   "source": [
    "#Creating group by object\n",
    "obj = D1.groupby(['main_sector'])\n",
    "\n",
    "#Applying grouping & taking average\n",
    "copy_D1 = obj['raised_amount_usd'].count().sort_values(ascending = False)\n",
    "copy_D1"
   ]
  },
  {
   "cell_type": "code",
   "execution_count": 31,
   "metadata": {},
   "outputs": [
    {
     "data": {
      "text/plain": [
       "main_sector\n",
       "Others                                     147\n",
       "Social, Finance, Analytics, Advertising    133\n",
       "Cleantech / Semiconductors                 130\n",
       "News, Search and Messaging                  73\n",
       "Entertainment                               56\n",
       "Manufacturing                               42\n",
       "Health                                      24\n",
       "Automotive & Sports                         16\n",
       "Name: raised_amount_usd, dtype: int64"
      ]
     },
     "execution_count": 31,
     "metadata": {},
     "output_type": "execute_result"
    }
   ],
   "source": [
    "#Creating group by object\n",
    "obj = D2.groupby(['main_sector'])\n",
    "\n",
    "#Applying grouping & taking average\n",
    "copy_D2 = obj['raised_amount_usd'].count().sort_values(ascending = False)\n",
    "copy_D2"
   ]
  },
  {
   "cell_type": "code",
   "execution_count": 32,
   "metadata": {},
   "outputs": [
    {
     "data": {
      "text/plain": [
       "main_sector\n",
       "Others                                     110\n",
       "Social, Finance, Analytics, Advertising     60\n",
       "News, Search and Messaging                  52\n",
       "Entertainment                               33\n",
       "Manufacturing                               21\n",
       "Cleantech / Semiconductors                  20\n",
       "Health                                      19\n",
       "Automotive & Sports                         13\n",
       "Name: raised_amount_usd, dtype: int64"
      ]
     },
     "execution_count": 32,
     "metadata": {},
     "output_type": "execute_result"
    }
   ],
   "source": [
    "#Creating group by object\n",
    "obj = D3.groupby(['main_sector'])\n",
    "\n",
    "#Applying grouping & taking average\n",
    "copy_D3 = obj['raised_amount_usd'].count().sort_values(ascending = False)\n",
    "copy_D3"
   ]
  },
  {
   "cell_type": "markdown",
   "metadata": {},
   "source": [
    "### ANS: \n",
    "![title](image1.png)"
   ]
  },
  {
   "cell_type": "markdown",
   "metadata": {},
   "source": [
    "### Q9. For point 3 (top sector count-wise), which company received the highest investment?"
   ]
  },
  {
   "cell_type": "code",
   "execution_count": 33,
   "metadata": {},
   "outputs": [
    {
     "name": "stdout",
     "output_type": "stream",
     "text": [
      "D1 (USA):  Virtustream\n"
     ]
    }
   ],
   "source": [
    "D = D1.copy()\n",
    "filterSec = 'Others'\n",
    "\n",
    "D = D[D['main_sector'] == filterSec]\n",
    "\n",
    "obj = D.groupby(['company_permalink'])\n",
    "\n",
    "group_D = obj['raised_amount_usd'].sum().sort_values(ascending = False)\n",
    "\n",
    "company_D = D[D['company_permalink'] == group_D.index[0]]['name'].head(5)\n",
    "\n",
    "print(\"D1 (USA): \", company_D[company_D.index[0]])"
   ]
  },
  {
   "cell_type": "code",
   "execution_count": 34,
   "metadata": {},
   "outputs": [
    {
     "name": "stdout",
     "output_type": "stream",
     "text": [
      "D2 (GBR):  Electric Cloud\n"
     ]
    }
   ],
   "source": [
    "D = D2.copy()\n",
    "filterSec = 'Others'\n",
    "\n",
    "D = D[D['main_sector'] == filterSec]\n",
    "\n",
    "obj = D.groupby(['company_permalink'])\n",
    "\n",
    "group_D = obj['raised_amount_usd'].sum().sort_values(ascending = False)\n",
    "\n",
    "company_D = D[D['company_permalink'] == group_D.index[0]]['name'].head(5)\n",
    "\n",
    "print(\"D2 (GBR): \", company_D[company_D.index[0]])"
   ]
  },
  {
   "cell_type": "code",
   "execution_count": 35,
   "metadata": {},
   "outputs": [
    {
     "name": "stdout",
     "output_type": "stream",
     "text": [
      "D3 (CAN):  FirstCry.com\n"
     ]
    }
   ],
   "source": [
    "D = D3.copy()\n",
    "filterSec = 'Others'\n",
    "\n",
    "D = D[D['main_sector'] == filterSec]\n",
    "\n",
    "obj = D.groupby(['company_permalink'])\n",
    "\n",
    "group_D = obj['raised_amount_usd'].sum().sort_values(ascending = False)\n",
    "\n",
    "company_D = D[D['company_permalink'] == group_D.index[0]]['name'].head(5)\n",
    "\n",
    "print(\"D3 (CAN): \", company_D[company_D.index[0]])"
   ]
  },
  {
   "cell_type": "markdown",
   "metadata": {},
   "source": [
    "### Ans:\n",
    "D1 (USA):  Virtustream\n",
    "\n",
    "D2 (GBR):  Electric Cloud\n",
    "\n",
    "D3 (CAN):  FirstCry.com"
   ]
  },
  {
   "cell_type": "markdown",
   "metadata": {},
   "source": [
    "### Q10. For point 4 (second best sector count-wise), which company received the highest investment?"
   ]
  },
  {
   "cell_type": "code",
   "execution_count": 36,
   "metadata": {},
   "outputs": [
    {
     "name": "stdout",
     "output_type": "stream",
     "text": [
      "D1 (USA):  Biodesix\n"
     ]
    }
   ],
   "source": [
    "D = D1.copy()\n",
    "filterSec = 'Cleantech / Semiconductors'\n",
    "\n",
    "D = D[D['main_sector'] == filterSec]\n",
    "\n",
    "obj = D.groupby(['company_permalink'])\n",
    "\n",
    "group_D = obj['raised_amount_usd'].sum().sort_values(ascending = False)\n",
    "\n",
    "company_D = D[D['company_permalink'] == group_D.index[0]]['name'].head(5)\n",
    "\n",
    "print(\"D1 (USA): \", company_D[company_D.index[0]])"
   ]
  },
  {
   "cell_type": "code",
   "execution_count": 37,
   "metadata": {},
   "outputs": [
    {
     "name": "stdout",
     "output_type": "stream",
     "text": [
      "D2 (GBR):  EUSA Pharma\n"
     ]
    }
   ],
   "source": [
    "D = D2.copy()\n",
    "filterSec = 'Cleantech / Semiconductors'\n",
    "\n",
    "D = D[D['main_sector'] == filterSec]\n",
    "\n",
    "obj = D.groupby(['company_permalink'])\n",
    "\n",
    "group_D = obj['raised_amount_usd'].sum().sort_values(ascending = False)\n",
    "\n",
    "company_D = D[D['company_permalink'] == group_D.index[0]]['name'].head(5)\n",
    "\n",
    "print(\"D2 (GBR): \", company_D[company_D.index[0]])"
   ]
  },
  {
   "cell_type": "code",
   "execution_count": 38,
   "metadata": {},
   "outputs": [
    {
     "name": "stdout",
     "output_type": "stream",
     "text": [
      "D3 (CAN):  GupShup\n"
     ]
    }
   ],
   "source": [
    "D = D3.copy()\n",
    "filterSec = 'News, Search and Messaging'\n",
    "\n",
    "D = D[D['main_sector'] == filterSec]\n",
    "\n",
    "obj = D.groupby(['company_permalink'])\n",
    "\n",
    "group_D = obj['raised_amount_usd'].sum().sort_values(ascending = False)\n",
    "\n",
    "company_D = D[D['company_permalink'] == group_D.index[0]]['name'].head(5)\n",
    "\n",
    "print(\"D3 (CAN): \", company_D[company_D.index[0]])"
   ]
  },
  {
   "cell_type": "markdown",
   "metadata": {},
   "source": [
    "### ANS: \n",
    "D1 (USA):  Biodesix\n",
    "\n",
    "D2 (GBR):  EUSA Pharma\n",
    "\n",
    "D3 (CAN):  GupShup"
   ]
  },
  {
   "cell_type": "markdown",
   "metadata": {},
   "source": [
    "## Checkpoint 6: Plots"
   ]
  },
  {
   "cell_type": "markdown",
   "metadata": {},
   "source": [
    "### Q1: A plot showing the fraction of total investments (globally) in angel, venture, seed, and private equity, and the average amount of investment in each funding type. This chart should make it clear that a certain funding type (FT) is best suited for Spark Funds."
   ]
  },
  {
   "cell_type": "code",
   "execution_count": 41,
   "metadata": {
    "scrolled": false
   },
   "outputs": [
    {
     "data": {
      "image/png": "[encoded data removed]",
      "text/plain": [
       "<Figure size 1080x504 with 2 Axes>"
      ]
     },
     "metadata": {},
     "output_type": "display_data"
    }
   ],
   "source": [
    "#Creating a copy of master frame\n",
    "copy_frame = master_frameV3.copy()\n",
    "copy_frame = copy_frame.loc[(copy_frame.funding_round_type == 'venture') | (copy_frame.funding_round_type == 'private_equity') |\n",
    "                            (copy_frame.funding_round_type == 'angel') | (copy_frame.funding_round_type == 'seed'), :]\n",
    "\n",
    "#Creating group by object\n",
    "obj = copy_frame.groupby(['funding_round_type'])\n",
    "\n",
    "#Applying grouping & taking average\n",
    "ventureAvg = obj['raised_amount_usd'].sum()\n",
    "\n",
    "#Function used by Pie chart\n",
    "def func(pct, allvals):\n",
    "    absolute = float((pct/100.*np.sum(allvals)/10000000000))\n",
    "    return \"{:.1f}%\\n({:.2f} Billion)\".format(pct, absolute)\n",
    "\n",
    "#Function used by Bar Chart\n",
    "def avgval (f):\n",
    "    f = round(f / 1000000,2);\n",
    "    o = str(f) + \" Million\"\n",
    "    return o;\n",
    "\n",
    "#Increase figure size \n",
    "plt.figure(figsize=(15, 7))\n",
    "\n",
    "##############################################################################################################\n",
    "#Subplots 1 Pie Chart\n",
    "plt.subplot(1, 2, 1)\n",
    "plt.title(\"Fractions of Top total Investment Types\")\n",
    "\n",
    "#Data used by the pie chart\n",
    "labels = [ventureAvg.index[0], ventureAvg.index[1], ventureAvg.index[2], ventureAvg.index[3]]\n",
    "sizes = [ventureAvg[0], ventureAvg[1], ventureAvg[2], ventureAvg[3]]\n",
    "\n",
    "#Plotting the pie chart\n",
    "plt.pie(sizes, labels=labels, autopct= lambda pct: func(pct, sizes),\n",
    "        startangle=90)\n",
    "\n",
    "##############################################################################################################\n",
    "#Subplot 2 Bar plot\n",
    "plt.subplot(1, 2, 2)\n",
    "plt.title('Average amount of Top Investment Types')\n",
    "\n",
    "#Objects used for plotting the pie chart\n",
    "groupedvalues = copy_frame.groupby(['funding_round_type']).mean().reset_index()\n",
    "rank = groupedvalues[\"raised_amount_usd\"].argsort().argsort() \n",
    "\n",
    "#Plotting the bar plot\n",
    "g = sns.barplot(x='funding_round_type',y='raised_amount_usd',data=groupedvalues, \n",
    "                color='red')\n",
    "\n",
    "#Displaying investment average amount above the respective bars\n",
    "for index, row in groupedvalues.iterrows():\n",
    "    g.text(row.name,row.raised_amount_usd+1000000 , avgval(row.raised_amount_usd), color='black', ha=\"center\")\n",
    "\n",
    "for bar in g.patches:\n",
    "    if bar.get_height() > 15000000:\n",
    "        bar.set_color('red')\n",
    "    elif (bar.get_height() > 5000000) and (bar.get_height() < 15000000):\n",
    "        bar.set_color('green')        \n",
    "    elif bar.get_height() > 5000000:\n",
    "        bar.set_color('grey')\n",
    "    else:\n",
    "        bar.set_color('grey')   \n",
    "##############################################################################################################\n",
    "#Showing both the plots\n",
    "plt.tight_layout()\n",
    "plt.savefig('C6_Q1.png', dpi=300)\n",
    "plt.show()"
   ]
  },
  {
   "cell_type": "markdown",
   "metadata": {},
   "source": [
    "### Q2: A plot showing the top 9 countries against the total amount of investments of funding type FT. This should make the top 3 countries (Country 1, Country 2, and Country 3) very clear."
   ]
  },
  {
   "cell_type": "code",
   "execution_count": 47,
   "metadata": {},
   "outputs": [
    {
     "data": {
      "image/png": "[encoded data removed]",
      "text/plain": [
       "<Figure size 1080x504 with 1 Axes>"
      ]
     },
     "metadata": {},
     "output_type": "display_data"
    }
   ],
   "source": [
    "#Creating a copy of master frame\n",
    "copy_frame = master_frame.copy()\n",
    "\n",
    "#Delete the rows other than 'private_equity' funding_round_type\n",
    "copy_frame = copy_frame[copy_frame.funding_round_type == 'venture']\n",
    "\n",
    "#Creating group by object\n",
    "obj = copy_frame.groupby(['country_code'])\n",
    "\n",
    "#Applying grouping & taking top 9 countries based on raised_amount_usd\n",
    "countriesCount = obj['raised_amount_usd'].sum().sort_values(ascending = False)\n",
    "top9 = countriesCount.head(9)\n",
    "\n",
    "#Printing top9\n",
    "top9\n",
    "#Function used by Bar Chart\n",
    "def avgval (f):\n",
    "    f = round(f / 1000000000,2);\n",
    "    o = str(f) + \" Billion\"\n",
    "    return o;\n",
    "#Increase figure size \n",
    "plt.figure(figsize=(15, 7))\n",
    "plt.title('Total amount of Investments Country wise')\n",
    "\n",
    "\n",
    "#Plotting the bar plot\n",
    "g = sns.barplot(x=top9.index,y=top9)\n",
    "\n",
    "for bar in g.patches:\n",
    "    g.text(bar.get_x()+0.4,bar.get_height()+10000000000, avgval(bar.get_height()), color='black', ha=\"center\")\n",
    "    \n",
    "for bar in g.patches:\n",
    "    if bar.get_height() > 40000000000:\n",
    "        bar.set_color('green')\n",
    "    elif (bar.get_height() < 40000000000) and (bar.get_height() > 39000000000):\n",
    "        bar.set_color('red')        \n",
    "    elif bar.get_height() > 14000000000 and (bar.get_height() < 39000000000):\n",
    "        bar.set_color('green')\n",
    "    else:\n",
    "        bar.set_color('grey')\n",
    "        \n",
    "plt.savefig('C6_Q2.png', dpi=300)\n",
    "plt.show()"
   ]
  },
  {
   "cell_type": "markdown",
   "metadata": {},
   "source": [
    "### Q3: A plot showing the number of investments in the top 3 sectors of the top 3 countries on one chart (for the chosen investment type FT). "
   ]
  },
  {
   "cell_type": "code",
   "execution_count": 48,
   "metadata": {},
   "outputs": [
    {
     "data": {
      "image/png": "[encoded data removed]",
      "text/plain": [
       "<Figure size 2160x648 with 3 Axes>"
      ]
     },
     "metadata": {},
     "output_type": "display_data"
    },
    {
     "data": {
      "text/plain": [
       "main_sector\n",
       "Others                                     2950\n",
       "Social, Finance, Analytics, Advertising    2714\n",
       "Cleantech / Semiconductors                 2350\n",
       "Name: raised_amount_usd, dtype: int64"
      ]
     },
     "execution_count": 48,
     "metadata": {},
     "output_type": "execute_result"
    }
   ],
   "source": [
    "#Functions to change width of bar\n",
    "def change_width(ax, new_value) :\n",
    "    for patch in ax.patches :\n",
    "        current_width = patch.get_width()\n",
    "        diff = current_width - new_value\n",
    "        # we change the bar width\n",
    "        patch.set_width(new_value)\n",
    "        # we recenter the bar\n",
    "        patch.set_x(patch.get_x() + diff * .5)\n",
    "\n",
    "#Function used by Bar Chart\n",
    "def avgval (f):\n",
    "    f = int(f)\n",
    "    o = str(f) + \" Investments\"\n",
    "    return o;\n",
    "\n",
    "#Function used by Bar Chart\n",
    "def venFun (ax):\n",
    "    for bar in ax.patches:\n",
    "        ax.text(bar.get_x()+0.2,bar.get_height()+int(bar.get_height()/90), avgval(bar.get_height()), color='black', ha=\"center\")\n",
    "        \n",
    "#Function for the bar color\n",
    "def barcolor (ax, h):\n",
    "    for bar in ax.patches:\n",
    "        if bar.get_height() > h:\n",
    "            bar.set_color('green')\n",
    "        else:\n",
    "            bar.set_color('red')\n",
    "\n",
    "#Increase figure size \n",
    "#plt.figure(figsize=(9, 20))\n",
    "plt.figure(figsize=(30, 9))\n",
    "\n",
    "##########################################################################################\n",
    "#First plot\n",
    "#Creating group by object\n",
    "obj = D1.groupby(['main_sector'])\n",
    "#Applying grouping & taking average\n",
    "copy_D1 = obj['raised_amount_usd'].count().sort_values(ascending = False)\n",
    "copy_D1 = copy_D1.head(3)\n",
    "plt.subplot(1, 3, 1)\n",
    "plt.title(\"D1: USA's no. of investments in top 3 sectors\")\n",
    "#Plotting the bar plot\n",
    "g = sns.barplot(x=copy_D1.index,y=copy_D1 )\n",
    "change_width(g, .4)\n",
    "plt.ylim(0, 3100)\n",
    "plt.ylabel(\"\")\n",
    "plt.xlabel(\"\")\n",
    "barcolor(g, 2700)\n",
    "venFun(g)\n",
    "\n",
    "##########################################################################################\n",
    "#Second plot\n",
    "#Creating group by object\n",
    "obj = D2.groupby(['main_sector'])\n",
    "#Applying grouping & taking average\n",
    "copy_D2 = obj['raised_amount_usd'].count().sort_values(ascending = False)\n",
    "copy_D2 = copy_D2.head(3)\n",
    "plt.subplot(1, 3, 2)\n",
    "plt.title(\"D2: United Kingdom's no. of investments in top 3 sectors\")\n",
    "#Plotting the bar plot\n",
    "g = sns.barplot(x=copy_D2.index,y=copy_D2)\n",
    "change_width(g, .4)\n",
    "plt.ylabel(\"\")\n",
    "plt.xlabel(\"\")\n",
    "barcolor(g, 132)\n",
    "venFun(g)\n",
    "\n",
    "##########################################################################################\n",
    "#Third plot\n",
    "#Creating group by object\n",
    "obj = D3.groupby(['main_sector'])\n",
    "#Applying grouping & taking average\n",
    "copy_D3 = obj['raised_amount_usd'].count().sort_values(ascending = False)\n",
    "copy_D3 = copy_D3.head(3)\n",
    "plt.subplot(1, 3, 3)\n",
    "plt.title(\"D3: India's no. of investments in top 3 sectors\")\n",
    "#Plotting the bar plot\n",
    "g = sns.barplot(x=copy_D3.index,y=copy_D3)\n",
    "change_width(g, .4)\n",
    "plt.ylabel(\"\")\n",
    "plt.xlabel(\"\")\n",
    "barcolor(g, 55)\n",
    "venFun(g)\n",
    "\n",
    "##########################################################################################\n",
    "#Save and show \n",
    "plt.savefig('C6_Q3.png', dpi=300)\n",
    "plt.show()\n",
    "copy_D1"
   ]
  },
  {
   "cell_type": "code",
   "execution_count": null,
   "metadata": {},
   "outputs": [],
   "source": []
  },
  {
   "cell_type": "code",
   "execution_count": null,
   "metadata": {},
   "outputs": [],
   "source": []
  }
 ],
 "metadata": {
  "kernelspec": {
   "display_name": "Python 3",
   "language": "python",
   "name": "python3"
  },
  "language_info": {
   "codemirror_mode": {
    "name": "ipython",
    "version": 3
   },
   "file_extension": ".py",
   "mimetype": "text/x-python",
   "name": "python",
   "nbconvert_exporter": "python",
   "pygments_lexer": "ipython3",
   "version": "3.7.4"
  }
 },
 "nbformat": 4,
 "nbformat_minor": 2
}
